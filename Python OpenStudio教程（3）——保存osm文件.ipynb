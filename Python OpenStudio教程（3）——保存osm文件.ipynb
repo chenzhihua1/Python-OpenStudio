{
 "cells": [
  {
   "cell_type": "markdown",
   "id": "560f84c5",
   "metadata": {},
   "source": [
    "# 先打开一个osm文件"
   ]
  },
  {
   "cell_type": "code",
   "execution_count": 1,
   "id": "7e7c35ad",
   "metadata": {},
   "outputs": [],
   "source": [
    "import openstudio\n",
    "import os\n",
    "\n",
    "current_dir = os.getcwd()\n",
    "osm_file_path = os.path.join(current_dir,r\"model.osm\")\n",
    "osm_file_path = openstudio.path(osm_file_path)\n",
    "translator = openstudio.osversion.VersionTranslator()\n",
    "model = translator.loadModel(osm_file_path)\n",
    "model = model.get()"
   ]
  },
  {
   "cell_type": "markdown",
   "id": "d2a64691",
   "metadata": {},
   "source": [
    "# 然后重新保存"
   ]
  },
  {
   "cell_type": "code",
   "execution_count": 2,
   "id": "eb2bd305",
   "metadata": {},
   "outputs": [
    {
     "data": {
      "text/plain": [
       "True"
      ]
     },
     "execution_count": 2,
     "metadata": {},
     "output_type": "execute_result"
    }
   ],
   "source": [
    "import openstudio\n",
    "\n",
    "saved_path = os.path.join(current_dir,r\"model_changed.osm\")\n",
    "model.save(openstudio.path(saved_path))"
   ]
  },
  {
   "cell_type": "code",
   "execution_count": null,
   "id": "108b56a4",
   "metadata": {},
   "outputs": [],
   "source": []
  }
 ],
 "metadata": {
  "kernelspec": {
   "display_name": "Python 3 (ipykernel)",
   "language": "python",
   "name": "python3"
  },
  "language_info": {
   "codemirror_mode": {
    "name": "ipython",
    "version": 3
   },
   "file_extension": ".py",
   "mimetype": "text/x-python",
   "name": "python",
   "nbconvert_exporter": "python",
   "pygments_lexer": "ipython3",
   "version": "3.9.12"
  }
 },
 "nbformat": 4,
 "nbformat_minor": 5
}
