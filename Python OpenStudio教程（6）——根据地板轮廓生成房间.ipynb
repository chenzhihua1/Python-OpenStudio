{
 "cells": [
  {
   "cell_type": "code",
   "execution_count": 1,
   "id": "f598c8b9",
   "metadata": {},
   "outputs": [],
   "source": [
    "import openstudio\n",
    "\n",
    "def create_polygon_from_xy(x_coordinates,y_coordinates,elevation,reverse=False):\n",
    "    if reverse:\n",
    "        x_list = x_coordinates.reverse()\n",
    "        y_list = y_coordinates.reverse()\n",
    "    else:\n",
    "        x_list = x_coordinates\n",
    "        y_list = y_coordinates\n",
    "        \n",
    "    points = []\n",
    "    for index, x in enumerate(x_list):\n",
    "        points.append(openstudio.Point3d(x,y_list[index],elevation))\n",
    "        \n",
    "    polygon = openstudio.Point3dVector()\n",
    "    for point_3d in points:\n",
    "        polygon.append(point_3d)\n",
    "\n",
    "    return polygon"
   ]
  },
  {
   "cell_type": "code",
   "execution_count": 2,
   "id": "3e205586",
   "metadata": {},
   "outputs": [],
   "source": [
    "x_coordinates = [0,0,1,1,2,2]\n",
    "y_coordinates = [0,1,1,2,2,0]\n",
    "elevation = 0\n",
    "floor_to_floor_hight = 3"
   ]
  },
  {
   "cell_type": "code",
   "execution_count": 3,
   "id": "8f3c8856",
   "metadata": {},
   "outputs": [],
   "source": [
    "model = openstudio.model.Model()\n",
    "polygon = create_polygon_from_xy(x_coordinates,y_coordinates,elevation,reverse=False)\n",
    "space = openstudio.model.Space.fromFloorPrint(polygon, floor_to_floor_hight, model).get()"
   ]
  },
  {
   "cell_type": "code",
   "execution_count": 4,
   "id": "52d73923",
   "metadata": {},
   "outputs": [
    {
     "data": {
      "text/plain": [
       "True"
      ]
     },
     "execution_count": 4,
     "metadata": {},
     "output_type": "execute_result"
    }
   ],
   "source": [
    "model.save(openstudio.path('model_6.osm'), True)"
   ]
  },
  {
   "cell_type": "code",
   "execution_count": null,
   "id": "96286a58",
   "metadata": {},
   "outputs": [],
   "source": []
  }
 ],
 "metadata": {
  "kernelspec": {
   "display_name": "Python 3 (ipykernel)",
   "language": "python",
   "name": "python3"
  },
  "language_info": {
   "codemirror_mode": {
    "name": "ipython",
    "version": 3
   },
   "file_extension": ".py",
   "mimetype": "text/x-python",
   "name": "python",
   "nbconvert_exporter": "python",
   "pygments_lexer": "ipython3",
   "version": "3.9.12"
  }
 },
 "nbformat": 4,
 "nbformat_minor": 5
}
