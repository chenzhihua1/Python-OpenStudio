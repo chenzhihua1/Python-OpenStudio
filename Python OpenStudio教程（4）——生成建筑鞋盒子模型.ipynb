{
 "cells": [
  {
   "cell_type": "code",
   "execution_count": 1,
   "id": "d66dace5",
   "metadata": {},
   "outputs": [],
   "source": [
    "import openstudio"
   ]
  },
  {
   "cell_type": "code",
   "execution_count": 2,
   "id": "1ed2f08f",
   "metadata": {},
   "outputs": [],
   "source": [
    "#房间的地板边界坐标点，按照顺时针排列。在EnergyPlus中面的坐标遵守右手准则，即四指按照坐标方向，大拇指应指向房间外。\n",
    "points = [[0,0],\n",
    "          [0,3],\n",
    "          [3,3],\n",
    "          [3,0]]\n",
    "\n",
    "elevation = 0 #房间的高度，这里只有一个房间故为0.如果不止一层，就会大于0\n",
    "floor_to_floor_height = 3 #楼层的高度\n",
    "\n",
    "model = openstudio.model.Model() #生成存放建筑能耗模型的容器，也就是调用Model类"
   ]
  },
  {
   "cell_type": "code",
   "execution_count": 3,
   "id": "a8d45782",
   "metadata": {},
   "outputs": [],
   "source": [
    "polygon = openstudio.Point3dVector() #openstudio有自己的数据格式，这里生成坐标点的列表\n",
    "\n",
    "#将坐标点遍历，放到列表中\n",
    "for point in points:\n",
    "    x_coordinates = point[0]\n",
    "    y_coordinates = point[1]\n",
    "    openstudio_Point3d = openstudio.Point3d(x_coordinates,y_coordinates,elevation) \n",
    "    polygon.append(openstudio_Point3d)"
   ]
  },
  {
   "cell_type": "code",
   "execution_count": 4,
   "id": "cbbeab8b",
   "metadata": {},
   "outputs": [
    {
     "data": {
      "text/plain": [
       "True"
      ]
     },
     "execution_count": 4,
     "metadata": {},
     "output_type": "execute_result"
    }
   ],
   "source": [
    "story = openstudio.model.BuildingStory(model) #生成楼层的对象\n",
    "\n",
    "space = openstudio.model.Space.fromFloorPrint(polygon, floor_to_floor_height, model).get() #将坐标放到openstudio自己的坐标格式\n",
    "space.setBuildingStory(story) #将房间放到指定的楼层里"
   ]
  },
  {
   "cell_type": "code",
   "execution_count": 6,
   "id": "3b56374f",
   "metadata": {},
   "outputs": [],
   "source": [
    "wwr = 0.5 #外墙窗前比\n",
    "offset = 1 #窗户离地板高度\n",
    "heightOffsetFromFloor = True\n",
    "\n",
    "for s in model.getSurfaces(): #遍历模型中所有的面\n",
    "    if s.outsideBoundaryCondition().lower() != \"outdoors\": #如果为外墙，则设置窗户\n",
    "        continue\n",
    "\n",
    "    new_window = s.setWindowToWallRatio(wwr, offset, heightOffsetFromFloor)\n",
    "\n",
    "    if new_window.is_initialized(): #改名字\n",
    "        new_window.get().setName(f\"{s.nameString()} Window\")"
   ]
  },
  {
   "cell_type": "code",
   "execution_count": 8,
   "id": "2a65391e",
   "metadata": {},
   "outputs": [
    {
     "data": {
      "text/plain": [
       "True"
      ]
     },
     "execution_count": 8,
     "metadata": {},
     "output_type": "execute_result"
    }
   ],
   "source": [
    "model.save(openstudio.path(r\"shoebox_model.osm\"))"
   ]
  },
  {
   "cell_type": "code",
   "execution_count": null,
   "id": "579210b4",
   "metadata": {},
   "outputs": [],
   "source": []
  }
 ],
 "metadata": {
  "kernelspec": {
   "display_name": "Python 3 (ipykernel)",
   "language": "python",
   "name": "python3"
  },
  "language_info": {
   "codemirror_mode": {
    "name": "ipython",
    "version": 3
   },
   "file_extension": ".py",
   "mimetype": "text/x-python",
   "name": "python",
   "nbconvert_exporter": "python",
   "pygments_lexer": "ipython3",
   "version": "3.9.12"
  }
 },
 "nbformat": 4,
 "nbformat_minor": 5
}
