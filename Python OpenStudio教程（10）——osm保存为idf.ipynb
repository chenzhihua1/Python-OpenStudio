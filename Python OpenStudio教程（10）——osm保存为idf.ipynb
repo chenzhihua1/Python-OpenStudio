{
 "cells": [
  {
   "cell_type": "markdown",
   "id": "ca864f5f",
   "metadata": {},
   "source": [
    "# 基于教程7生成基础模型"
   ]
  },
  {
   "cell_type": "code",
   "execution_count": 1,
   "id": "5ca91d51",
   "metadata": {},
   "outputs": [],
   "source": [
    "import openstudio\n",
    "\n",
    "from lib.baseline_model import BaselineModel\n",
    "\n",
    "model = BaselineModel()\n",
    "\n",
    "# make a 2 story, 100m X 50m, 10 zone core/perimeter building\n",
    "model.add_geometry(length=100, width=50, num_floors=2, floor_to_floor_height=4, plenum_height=1, perimeter_zone_depth=3)\n",
    "\n",
    "# add windows at a 40% window-to-wall ratio\n",
    "model.add_windows(wwr=0.4, offset=1, application_type=\"Above Floor\")\n",
    "\n",
    "# add ASHRAE System type 07, VAV\n",
    "model.add_hvac(ashrae_sys_num=\"07\")"
   ]
  },
  {
   "cell_type": "markdown",
   "id": "8dd42264",
   "metadata": {},
   "source": [
    "# 保存osm模型为idf模型"
   ]
  },
  {
   "cell_type": "code",
   "execution_count": 2,
   "id": "2a1832a0",
   "metadata": {},
   "outputs": [
    {
     "data": {
      "text/plain": [
       "True"
      ]
     },
     "execution_count": 2,
     "metadata": {},
     "output_type": "execute_result"
    }
   ],
   "source": [
    "ft = openstudio.energyplus.ForwardTranslator()\n",
    "w = ft.translateModel(model)\n",
    "w.save(openstudio.path('modle_10.idf'), True)"
   ]
  }
 ],
 "metadata": {
  "kernelspec": {
   "display_name": "Python 3 (ipykernel)",
   "language": "python",
   "name": "python3"
  },
  "language_info": {
   "codemirror_mode": {
    "name": "ipython",
    "version": 3
   },
   "file_extension": ".py",
   "mimetype": "text/x-python",
   "name": "python",
   "nbconvert_exporter": "python",
   "pygments_lexer": "ipython3",
   "version": "3.9.12"
  }
 },
 "nbformat": 4,
 "nbformat_minor": 5
}
