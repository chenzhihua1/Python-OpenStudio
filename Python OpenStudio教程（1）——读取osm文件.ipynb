{
 "cells": [
  {
   "cell_type": "code",
   "execution_count": 3,
   "id": "f2db3df6",
   "metadata": {},
   "outputs": [
    {
     "name": "stdout",
     "output_type": "stream",
     "text": [
      "OS:RunPeriod,\n",
      "  {5c878c4f-50eb-47d0-8154-2cebe76f3bf8}, !- Handle\n",
      "  Run Period 1,                           !- Name\n",
      "  1,                                      !- Begin Month\n",
      "  1,                                      !- Begin Day of Month\n",
      "  12,                                     !- End Month\n",
      "  31,                                     !- End Day of Month\n",
      "  ,                                       !- Use Weather File Holidays and Special Days\n",
      "  ,                                       !- Use Weather File Daylight Saving Period\n",
      "  ,                                       !- Apply Weekend Holiday Rule\n",
      "  ,                                       !- Use Weather File Rain Indicators\n",
      "  ,                                       !- Use Weather File Snow Indicators\n",
      "  ;                                       !- Number of Times Runperiod to be Repeated\n",
      "\n",
      "\n"
     ]
    }
   ],
   "source": [
    "import openstudio\n",
    "import os\n",
    "\n",
    "current_dir = os.getcwd()\n",
    "osm_file_path = os.path.join(current_dir,r\"model.osm\")\n",
    "osm_file_path = openstudio.path(osm_file_path)\n",
    "translator = openstudio.osversion.VersionTranslator()\n",
    "model = translator.loadModel(osm_file_path)\n",
    "model = model.get()\n",
    "\n",
    "print(model.getRunPeriod())"
   ]
  },
  {
   "cell_type": "code",
   "execution_count": null,
   "id": "1dd357c5",
   "metadata": {},
   "outputs": [],
   "source": []
  }
 ],
 "metadata": {
  "kernelspec": {
   "display_name": "Python 3 (ipykernel)",
   "language": "python",
   "name": "python3"
  },
  "language_info": {
   "codemirror_mode": {
    "name": "ipython",
    "version": 3
   },
   "file_extension": ".py",
   "mimetype": "text/x-python",
   "name": "python",
   "nbconvert_exporter": "python",
   "pygments_lexer": "ipython3",
   "version": "3.9.12"
  }
 },
 "nbformat": 4,
 "nbformat_minor": 5
}
