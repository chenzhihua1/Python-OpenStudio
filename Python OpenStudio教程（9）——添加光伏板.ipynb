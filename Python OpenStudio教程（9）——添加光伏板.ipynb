{
 "cells": [
  {
   "cell_type": "markdown",
   "id": "baf04185",
   "metadata": {},
   "source": [
    "# 基于教程7生成基础模型"
   ]
  },
  {
   "cell_type": "code",
   "execution_count": 1,
   "id": "c57293b3",
   "metadata": {},
   "outputs": [],
   "source": [
    "import openstudio\n",
    "\n",
    "from lib.baseline_model import BaselineModel\n",
    "\n",
    "model = BaselineModel()\n",
    "\n",
    "# make a 2 story, 100m X 50m, 10 zone core/perimeter building\n",
    "model.add_geometry(length=100, width=50, num_floors=2, floor_to_floor_height=4, plenum_height=1, perimeter_zone_depth=3)\n",
    "\n",
    "# add windows at a 40% window-to-wall ratio\n",
    "model.add_windows(wwr=0.4, offset=1, application_type=\"Above Floor\")"
   ]
  },
  {
   "cell_type": "markdown",
   "id": "76c82979",
   "metadata": {},
   "source": [
    "#### 主要参考：https://github.com/NREL/OpenStudio-resources/blob/develop/model/simulationtests/pvwatts.py"
   ]
  },
  {
   "cell_type": "markdown",
   "id": "198dbbf6",
   "metadata": {},
   "source": [
    "# 创建光伏板"
   ]
  },
  {
   "cell_type": "code",
   "execution_count": 2,
   "id": "0c138ac3",
   "metadata": {},
   "outputs": [
    {
     "data": {
      "text/plain": [
       "True"
      ]
     },
     "execution_count": 2,
     "metadata": {},
     "output_type": "execute_result"
    }
   ],
   "source": [
    "#首先是几何形状的生成，光伏板其实就是一个矩形平面，假设光伏板为1m*2m的板子\n",
    "vertices = openstudio.Point3dVector()#矩形的四个顶点，这里是相对参考系坐标，后面需要关联到绝对坐标系\n",
    "vertices.append(openstudio.Point3d(0, 0, 0))\n",
    "vertices.append(openstudio.Point3d(1, 0, 0))\n",
    "vertices.append(openstudio.Point3d(1, 2, 0))\n",
    "vertices.append(openstudio.Point3d(0, 2, 0))\n",
    "\n",
    "#然后将板子旋转到需要的角度，当然这一步也可以不要，在上一步直接将坐标设置为绝对坐即可\n",
    "#Vector3d(1, 0, 0)就是按x轴旋转，(0, 1, 0)按y轴旋转，(0, 0, 1)按z轴旋转，线性代数里的变换矩阵\n",
    "rotation = openstudio.createRotation(openstudio.Vector3d(1, 0, 0), openstudio.degToRad(30))\n",
    "vertices = rotation * vertices\n",
    "\n",
    "#生成遮阳，是的你没看错，就是生成遮阳，光伏板不也是遮阳吗，哈哈\n",
    "group = openstudio.model.ShadingSurfaceGroup(model)\n",
    "group.setXOrigin(20)#板子放在哪里，起点的绝对坐标\n",
    "group.setYOrigin(10)\n",
    "group.setZOrigin(9)#z应该高于屋顶，案例里面的房子2层高，光伏放在9m高\n",
    "shade = openstudio.model.ShadingSurface(vertices, model)\n",
    "shade.setShadingSurfaceGroup(group)\n",
    "\n",
    "#再将遮阳设置为光伏板\n",
    "generator = openstudio.model.GeneratorPVWatts(model, shade, 100)#100是板子的功率\n",
    "\n",
    "#再添加逆变器\n",
    "inverter = openstudio.model.ElectricLoadCenterInverterPVWatts(model)\n",
    "electric_load_center_dist = openstudio.model.ElectricLoadCenterDistribution(model)\n",
    "electric_load_center_dist.addGenerator(generator)\n",
    "electric_load_center_dist.setInverter(inverter)"
   ]
  },
  {
   "cell_type": "markdown",
   "id": "4fc4e84a",
   "metadata": {},
   "source": [
    "# 保存模型"
   ]
  },
  {
   "cell_type": "code",
   "execution_count": 3,
   "id": "0089af0d",
   "metadata": {},
   "outputs": [
    {
     "name": "stdout",
     "output_type": "stream",
     "text": [
      "Saving to C:\\sites\\git_code\\pyep\\Python Openstudio Course\\model_9.osm\n"
     ]
    }
   ],
   "source": [
    "model.save_openstudio_osm(osm_save_directory=None, osm_name=\"model_9.osm\")"
   ]
  },
  {
   "cell_type": "code",
   "execution_count": null,
   "id": "0c873d6a",
   "metadata": {},
   "outputs": [],
   "source": []
  },
  {
   "cell_type": "code",
   "execution_count": null,
   "id": "6e971289",
   "metadata": {},
   "outputs": [],
   "source": []
  }
 ],
 "metadata": {
  "kernelspec": {
   "display_name": "Python 3 (ipykernel)",
   "language": "python",
   "name": "python3"
  },
  "language_info": {
   "codemirror_mode": {
    "name": "ipython",
    "version": 3
   },
   "file_extension": ".py",
   "mimetype": "text/x-python",
   "name": "python",
   "nbconvert_exporter": "python",
   "pygments_lexer": "ipython3",
   "version": "3.9.12"
  }
 },
 "nbformat": 4,
 "nbformat_minor": 5
}
