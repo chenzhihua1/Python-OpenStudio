{
 "cells": [
  {
   "cell_type": "markdown",
   "id": "168ffca0",
   "metadata": {},
   "source": [
    "# 基于教程7生成基础模型"
   ]
  },
  {
   "cell_type": "code",
   "execution_count": 1,
   "id": "935cf666",
   "metadata": {},
   "outputs": [],
   "source": [
    "import openstudio\n",
    "\n",
    "from lib.baseline_model import BaselineModel\n",
    "\n",
    "model = BaselineModel()\n",
    "\n",
    "# make a 2 story, 100m X 50m, 10 zone core/perimeter building\n",
    "model.add_geometry(length=100, width=50, num_floors=2, floor_to_floor_height=4, plenum_height=1, perimeter_zone_depth=3)\n",
    "\n",
    "# add windows at a 40% window-to-wall ratio\n",
    "model.add_windows(wwr=0.4, offset=1, application_type=\"Above Floor\")\n",
    "\n",
    "# add ASHRAE System type 07, VAV\n",
    "model.add_hvac(ashrae_sys_num=\"07\")"
   ]
  },
  {
   "cell_type": "markdown",
   "id": "d916ff79",
   "metadata": {},
   "source": [
    "# 获取冷冻水环路"
   ]
  },
  {
   "cell_type": "code",
   "execution_count": 2,
   "id": "7826d701",
   "metadata": {},
   "outputs": [
    {
     "data": {
      "text/plain": [
       "True"
      ]
     },
     "execution_count": 2,
     "metadata": {},
     "output_type": "execute_result"
    }
   ],
   "source": [
    "for plant_loop in model.getPlantLoops():\n",
    "    if plant_loop.sizingPlant().loopType() == \"Cooling\":\n",
    "        chilled_water_plant_loop = plant_loop"
   ]
  },
  {
   "cell_type": "markdown",
   "id": "8f1888f2",
   "metadata": {},
   "source": [
    "# 设置冷机出水温度随着室外温度变化"
   ]
  },
  {
   "cell_type": "code",
   "execution_count": null,
   "id": "1f8f87db",
   "metadata": {},
   "outputs": [],
   "source": [
    "senpointManager_reset = openstudio.model.SetpointManagerOutdoorAirReset(model)#先生成SetpointManagerOutdoorAirReset\n",
    "senpointManager_reset.setOutdoorHighTemperature(27)\n",
    "senpointManager_reset.setOutdoorLowTemperature(16)\n",
    "senpointManager_reset.setSetpointatOutdoorHighTemperature(7)\n",
    "senpointManager_reset.setSetpointatOutdoorLowTemperature (12)\n",
    "chilled_plant_CHW_supply_setpoint_node = chilled_water_plant_loop.loopTemperatureSetpointNode()#获取冷冻水环路的出口节点\n",
    "senpointManager_reset.addToNode(chilled_plant_CHW_supply_setpoint_node)#将SetpointManagerOutdoorAirReset赋给冷冻水环路的出口节点"
   ]
  },
  {
   "cell_type": "markdown",
   "id": "b7306a24",
   "metadata": {},
   "source": [
    "# 保存模型"
   ]
  },
  {
   "cell_type": "code",
   "execution_count": 3,
   "id": "8cd79b25",
   "metadata": {},
   "outputs": [
    {
     "name": "stdout",
     "output_type": "stream",
     "text": [
      "Saving to C:\\sites\\git_code\\pyep\\Python Openstudio Course\\model_8.osm\n"
     ]
    }
   ],
   "source": [
    "model.save_openstudio_osm(osm_save_directory=None, osm_name=\"model_8.osm\")"
   ]
  },
  {
   "cell_type": "code",
   "execution_count": null,
   "id": "3d65e588",
   "metadata": {},
   "outputs": [],
   "source": []
  }
 ],
 "metadata": {
  "kernelspec": {
   "display_name": "Python 3 (ipykernel)",
   "language": "python",
   "name": "python3"
  },
  "language_info": {
   "codemirror_mode": {
    "name": "ipython",
    "version": 3
   },
   "file_extension": ".py",
   "mimetype": "text/x-python",
   "name": "python",
   "nbconvert_exporter": "python",
   "pygments_lexer": "ipython3",
   "version": "3.9.12"
  }
 },
 "nbformat": 4,
 "nbformat_minor": 5
}
