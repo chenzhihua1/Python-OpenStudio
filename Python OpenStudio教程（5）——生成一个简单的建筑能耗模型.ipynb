{
 "cells": [
  {
   "cell_type": "code",
   "execution_count": 1,
   "id": "3b778bb8",
   "metadata": {},
   "outputs": [
    {
     "name": "stdout",
     "output_type": "stream",
     "text": [
      "Saving to C:\\sites\\git_code\\courses\\Python Openstudio\\model_5.osm\n"
     ]
    }
   ],
   "source": [
    "import openstudio\n",
    "\n",
    "from lib.baseline_model import BaselineModel\n",
    "\n",
    "model = BaselineModel()\n",
    "\n",
    "# make a 2 story, 100m X 50m, 10 zone core/perimeter building\n",
    "model.add_geometry(length=100, width=50, num_floors=2, floor_to_floor_height=4, plenum_height=1, perimeter_zone_depth=3)\n",
    "\n",
    "# add windows at a 40% window-to-wall ratio\n",
    "model.add_windows(wwr=0.4, offset=1, application_type=\"Above Floor\")\n",
    "\n",
    "# add ASHRAE System type 10, Warm air furnace, electric\n",
    "model.add_hvac(ashrae_sys_num=\"10\")\n",
    "\n",
    "# add thermostats\n",
    "model.add_thermostats(heating_setpoint=24, cooling_setpoint=28)\n",
    "\n",
    "# assign constructions from a local library to the walls/windows/etc. in the model\n",
    "model.set_constructions()\n",
    "\n",
    "# set whole building space type; simplified 90.1-2004 Large Office Whole Building\n",
    "model.set_space_type()\n",
    "\n",
    "# add design days to the model (Chicago)\n",
    "#model.add_design_days()\n",
    "\n",
    "# save the OpenStudio model (.osm)\n",
    "model.save_openstudio_osm(osm_save_directory=None, osm_name=\"model_5.osm\")"
   ]
  },
  {
   "cell_type": "code",
   "execution_count": null,
   "id": "b42caad1",
   "metadata": {},
   "outputs": [],
   "source": []
  }
 ],
 "metadata": {
  "kernelspec": {
   "display_name": "Python 3 (ipykernel)",
   "language": "python",
   "name": "python3"
  },
  "language_info": {
   "codemirror_mode": {
    "name": "ipython",
    "version": 3
   },
   "file_extension": ".py",
   "mimetype": "text/x-python",
   "name": "python",
   "nbconvert_exporter": "python",
   "pygments_lexer": "ipython3",
   "version": "3.9.12"
  }
 },
 "nbformat": 4,
 "nbformat_minor": 5
}
