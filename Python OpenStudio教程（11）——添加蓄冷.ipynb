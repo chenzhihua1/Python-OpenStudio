{
 "cells": [
  {
   "cell_type": "markdown",
   "id": "378b35c2",
   "metadata": {},
   "source": [
    "# 基于教程7生成基础模型"
   ]
  },
  {
   "cell_type": "code",
   "execution_count": 1,
   "id": "0bc3d21f",
   "metadata": {},
   "outputs": [],
   "source": [
    "import openstudio\n",
    "\n",
    "from lib.baseline_model import BaselineModel\n",
    "\n",
    "model = BaselineModel()\n",
    "\n",
    "# make a 2 story, 100m X 50m, 10 zone core/perimeter building\n",
    "model.add_geometry(length=100, width=50, num_floors=2, floor_to_floor_height=4, plenum_height=1, perimeter_zone_depth=3)\n",
    "\n",
    "# add windows at a 40% window-to-wall ratio\n",
    "model.add_windows(wwr=0.4, offset=1, application_type=\"Above Floor\")\n",
    "\n",
    "# add ASHRAE System type 07, VAV\n",
    "model.add_hvac(ashrae_sys_num=\"07\")\n",
    "\n",
    "# add thermostats\n",
    "model.add_thermostats(heating_setpoint=24, cooling_setpoint=28)\n",
    "\n",
    "# assign constructions from a local library to the walls/windows/etc. in the model\n",
    "model.set_constructions()\n",
    "\n",
    "# set whole building space type; simplified 90.1-2004 Large Office Whole Building\n",
    "model.set_space_type()"
   ]
  },
  {
   "cell_type": "markdown",
   "id": "4aacc819",
   "metadata": {},
   "source": [
    "# 添加冰蓄冷或水蓄冷"
   ]
  },
  {
   "cell_type": "code",
   "execution_count": 2,
   "id": "2e0ceac0",
   "metadata": {},
   "outputs": [
    {
     "data": {
      "text/plain": [
       "True"
      ]
     },
     "execution_count": 2,
     "metadata": {},
     "output_type": "execute_result"
    }
   ],
   "source": [
    "chilled_plant = model.getChillerElectricEIRs()[0].plantLoop().get()#获取冷冻水环路\n",
    "thermal_storage = openstudio.model.ThermalStorageChilledWaterStratified(model)#添加水蓄冷，如果是冰蓄冷，则使用ThermalStorageIceDetailed\n",
    "#thermal_storage = openstudio.model.ThermalStorageIceDetailed(model)\n",
    "chilled_plant.addSupplyBranchForComponent(thermal_storage)#添加新的蓄冷分支环路"
   ]
  },
  {
   "cell_type": "code",
   "execution_count": 3,
   "id": "c23af63d",
   "metadata": {},
   "outputs": [
    {
     "name": "stdout",
     "output_type": "stream",
     "text": [
      "Saving to C:\\sites\\git_code\\pyep\\Python Openstudio Course\\model_11.osm\n"
     ]
    }
   ],
   "source": [
    "model.save_openstudio_osm(osm_save_directory=None, osm_name=\"model_11.osm\")"
   ]
  },
  {
   "cell_type": "code",
   "execution_count": null,
   "id": "dbca3614",
   "metadata": {},
   "outputs": [],
   "source": []
  }
 ],
 "metadata": {
  "kernelspec": {
   "display_name": "Python 3 (ipykernel)",
   "language": "python",
   "name": "python3"
  },
  "language_info": {
   "codemirror_mode": {
    "name": "ipython",
    "version": 3
   },
   "file_extension": ".py",
   "mimetype": "text/x-python",
   "name": "python",
   "nbconvert_exporter": "python",
   "pygments_lexer": "ipython3",
   "version": "3.9.12"
  }
 },
 "nbformat": 4,
 "nbformat_minor": 5
}
